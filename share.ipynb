# Install necessary libraries
# !pip install yfinance numpy pandas scikit-learn tensorflow matplotlib

import yfinance as yf
import pandas as pd
import numpy as np
import matplotlib.pyplot as plt
from sklearn.preprocessing import MinMaxScaler
from tensorflow.keras.models import Sequential
from tensorflow.keras.layers import LSTM, Dense, Dropout

# 1. Fetch Historical Stock Data
ticker = 'AAPL'  # Replace with any stock ticker (e.g., 'GOOG' for Google, 'MSFT' for Microsoft)
start_date = '2010-01-01'
end_date = '2024-01-01'

# Download stock data
data = yf.download(ticker, start=start_date, end=end_date)
print(data.head())  # Show first few rows of the data

# 2. Preprocessing the Data (MinMax Scaling)
# Extract the 'Close' price column
data = data[['Close']]

# Normalize the data using MinMaxScaler to scale it between 0 and 1
scaler = MinMaxScaler(feature_range=(0, 1))
scaled_data = scaler.fit_transform(data)

# Prepare the data for the model
def prepare_data(data, time_step=60):
    X = []
    y = []
    for i in range(time_step, len(data)):
        X.append(data[i-time_step:i, 0])
        y.append(data[i, 0])
    return np.array(X), np.array(y)

time_step = 60  # Use the last 60 days to predict the next day's price
X, y = prepare_data(scaled_data, time_step)

# Reshape X to be a 3D array for LSTM input [samples, time steps, features]
X = X.reshape(X.shape[0], X.shape[1], 1)
print(X.shape, y.shape)  # Check the shape of the data

# 3. Build the LSTM Model
model = Sequential()

# Add the first LSTM layer
model.add(LSTM(units=50, return_sequences=True, input_shape=(X.shape[1], 1)))
model.add(Dropout(0.2))  # Dropout to prevent overfitting

# Add the second LSTM layer
model.add(LSTM(units=50, return_sequences=False))
model.add(Dropout(0.2))

# Add the output layer
model.add(Dense(units=1))  # Output a single value (predicted stock price)

# Compile the model
model.compile(optimizer='adam', loss='mean_squared_error')

# Train the model
model.fit(X, y, epochs=10, batch_size=32)

# 4. Make Predictions

# Get the last 60 days of stock data for prediction
test_data = data[-time_step:].values
test_data = scaler.transform(test_data)  # Scale it
X_test = []
X_test.append(test_data)
X_test = np.array(X_test)
X_test = X_test.reshape(X_test.shape[0], X_test.shape[1], 1)

# Predict the stock price for the next day
predicted_price = model.predict(X_test)
predicted_price = scaler.inverse_transform(predicted_price)  # Unscale the predicted price

print(f"Predicted next day's stock price: {predicted_price[0][0]}")

# 5. Plot the Results

# Get the training data and test data for plotting
train_data = data[:len(data) - time_step]
test_data = data[len(data) - time_step:]

# Predict on the entire dataset (for plotting purposes)
full_data = data[['Close']].values
scaled_full_data = scaler.fit_transform(full_data)

X_full, y_full = prepare_data(scaled_full_data, time_step)

X_full = X_full.reshape(X_full.shape[0], X_full.shape[1], 1)
predicted_prices = model.predict(X_full)
predicted_prices = scaler.inverse_transform(predicted_prices)

# Plotting the results
plt.figure(figsize=(14, 6))
plt.plot(data.index, data['Close'], color='blue', label='Actual Stock Price')
plt.plot(data.index[time_step:], predicted_prices, color='red', label='Predicted Stock Price')
plt.title(f'{ticker} Stock Price Prediction')
plt.xlabel('Date')
plt.ylabel('Price')
plt.legend()
plt.show()
